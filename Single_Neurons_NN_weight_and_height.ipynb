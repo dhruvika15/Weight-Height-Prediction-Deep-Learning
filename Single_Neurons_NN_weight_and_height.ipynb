{
  "cells": [
    {
      "cell_type": "markdown",
      "metadata": {
        "id": "view-in-github",
        "colab_type": "text"
      },
      "source": [
        "<a href=\"https://colab.research.google.com/github/dhruvika15/Weight-height/blob/main/Single_Neurons_NN_weight_and_height.ipynb\" target=\"_parent\"><img src=\"https://colab.research.google.com/assets/colab-badge.svg\" alt=\"Open In Colab\"/></a>"
      ]
    },
    {
      "cell_type": "code",
      "execution_count": null,
      "id": "e399b04e",
      "metadata": {
        "id": "e399b04e"
      },
      "outputs": [],
      "source": [
        "import pandas as pd"
      ]
    },
    {
      "cell_type": "code",
      "execution_count": null,
      "id": "e4e1943b",
      "metadata": {
        "id": "e4e1943b"
      },
      "outputs": [],
      "source": [
        "dataset = pd.read_csv('weight-height.csv')"
      ]
    },
    {
      "cell_type": "code",
      "execution_count": null,
      "id": "cdda5e18",
      "metadata": {
        "id": "cdda5e18",
        "outputId": "4d833d04-a515-49d6-c9a3-68c4f48d6826"
      },
      "outputs": [
        {
          "data": {
            "text/plain": [
              "Index(['Gender', 'Height', 'Weight'], dtype='object')"
            ]
          },
          "execution_count": 3,
          "metadata": {},
          "output_type": "execute_result"
        }
      ],
      "source": [
        "dataset.columns"
      ]
    },
    {
      "cell_type": "code",
      "execution_count": null,
      "id": "341162cb",
      "metadata": {
        "id": "341162cb",
        "outputId": "a3f6e829-b7a2-4514-aef3-f0d10a8fc793"
      },
      "outputs": [
        {
          "name": "stdout",
          "output_type": "stream",
          "text": [
            "<class 'pandas.core.frame.DataFrame'>\n",
            "RangeIndex: 10000 entries, 0 to 9999\n",
            "Data columns (total 3 columns):\n",
            " #   Column  Non-Null Count  Dtype  \n",
            "---  ------  --------------  -----  \n",
            " 0   Gender  10000 non-null  object \n",
            " 1   Height  10000 non-null  float64\n",
            " 2   Weight  10000 non-null  float64\n",
            "dtypes: float64(2), object(1)\n",
            "memory usage: 234.5+ KB\n"
          ]
        }
      ],
      "source": [
        "dataset.info()"
      ]
    },
    {
      "cell_type": "code",
      "execution_count": null,
      "id": "58fb98c1",
      "metadata": {
        "id": "58fb98c1"
      },
      "outputs": [],
      "source": [
        "y = dataset['Weight']"
      ]
    },
    {
      "cell_type": "code",
      "execution_count": null,
      "id": "45036060",
      "metadata": {
        "id": "45036060"
      },
      "outputs": [],
      "source": [
        "X = dataset['Height']"
      ]
    },
    {
      "cell_type": "code",
      "execution_count": null,
      "id": "4117875e",
      "metadata": {
        "id": "4117875e",
        "outputId": "ae3ed1f8-a538-459b-da43-006d86c202da"
      },
      "outputs": [
        {
          "data": {
            "text/plain": [
              "(10000,)"
            ]
          },
          "execution_count": 15,
          "metadata": {},
          "output_type": "execute_result"
        }
      ],
      "source": [
        "X.shape"
      ]
    },
    {
      "cell_type": "code",
      "execution_count": null,
      "id": "9776f78b",
      "metadata": {
        "id": "9776f78b"
      },
      "outputs": [],
      "source": [
        "# Regression model\n"
      ]
    },
    {
      "cell_type": "code",
      "execution_count": null,
      "id": "f7ea90ba",
      "metadata": {
        "id": "f7ea90ba"
      },
      "outputs": [],
      "source": [
        "from keras.models import Sequential"
      ]
    },
    {
      "cell_type": "code",
      "execution_count": null,
      "id": "dcc96815",
      "metadata": {
        "id": "dcc96815"
      },
      "outputs": [],
      "source": [
        "# NN algo : NN : adding layer\n",
        "model = Sequential()"
      ]
    },
    {
      "cell_type": "code",
      "execution_count": null,
      "id": "b8005c74",
      "metadata": {
        "id": "b8005c74"
      },
      "outputs": [],
      "source": [
        "from keras.layers import Dense"
      ]
    },
    {
      "cell_type": "code",
      "execution_count": null,
      "id": "2204094b",
      "metadata": {
        "id": "2204094b",
        "outputId": "72c84ad3-38cf-406a-fb9f-4d4b2311d71d"
      },
      "outputs": [
        {
          "data": {
            "text/plain": [
              "{'name': 'sequential', 'layers': []}"
            ]
          },
          "execution_count": 13,
          "metadata": {},
          "output_type": "execute_result"
        }
      ],
      "source": [
        "model.get_config()"
      ]
    },
    {
      "cell_type": "code",
      "execution_count": null,
      "id": "05a04efc",
      "metadata": {
        "id": "05a04efc"
      },
      "outputs": [],
      "source": [
        "model.add(  \n",
        "    Dense(       \n",
        "          units=1,  \n",
        "          activation=\"linear\" , \n",
        "          kernel_initializer=\"zeros\",\n",
        "          bias_initializer=\"zeros\",\n",
        "          input_shape=(1,)      \n",
        "    )  \n",
        ")"
      ]
    },
    {
      "cell_type": "code",
      "execution_count": null,
      "id": "a12dadbf",
      "metadata": {
        "id": "a12dadbf",
        "outputId": "b198e0d4-b646-4eac-db95-36b910ec444f"
      },
      "outputs": [
        {
          "data": {
            "text/plain": [
              "{'name': 'sequential',\n",
              " 'layers': [{'class_name': 'InputLayer',\n",
              "   'config': {'batch_input_shape': (None, 1),\n",
              "    'dtype': 'float32',\n",
              "    'sparse': False,\n",
              "    'ragged': False,\n",
              "    'name': 'dense_input'}},\n",
              "  {'class_name': 'Dense',\n",
              "   'config': {'name': 'dense',\n",
              "    'trainable': True,\n",
              "    'batch_input_shape': (None, 1),\n",
              "    'dtype': 'float32',\n",
              "    'units': 1,\n",
              "    'activation': 'linear',\n",
              "    'use_bias': True,\n",
              "    'kernel_initializer': {'class_name': 'Zeros', 'config': {}},\n",
              "    'bias_initializer': {'class_name': 'Zeros', 'config': {}},\n",
              "    'kernel_regularizer': None,\n",
              "    'bias_regularizer': None,\n",
              "    'activity_regularizer': None,\n",
              "    'kernel_constraint': None,\n",
              "    'bias_constraint': None}}]}"
            ]
          },
          "execution_count": 17,
          "metadata": {},
          "output_type": "execute_result"
        }
      ],
      "source": [
        "model.get_config()"
      ]
    },
    {
      "cell_type": "code",
      "execution_count": null,
      "id": "08223254",
      "metadata": {
        "id": "08223254",
        "outputId": "ea1ae363-b6bb-4813-b688-3618fc7c3803"
      },
      "outputs": [
        {
          "name": "stdout",
          "output_type": "stream",
          "text": [
            "Model: \"sequential\"\n",
            "_________________________________________________________________\n",
            " Layer (type)                Output Shape              Param #   \n",
            "=================================================================\n",
            " dense (Dense)               (None, 1)                 2         \n",
            "                                                                 \n",
            "=================================================================\n",
            "Total params: 2\n",
            "Trainable params: 2\n",
            "Non-trainable params: 0\n",
            "_________________________________________________________________\n"
          ]
        }
      ],
      "source": [
        "model.summary()"
      ]
    },
    {
      "cell_type": "code",
      "execution_count": null,
      "id": "8f0e895f",
      "metadata": {
        "id": "8f0e895f",
        "outputId": "bafd3df6-ee31-41c5-881b-034dce91d9d0"
      },
      "outputs": [
        {
          "data": {
            "text/plain": [
              "<KerasTensor: shape=(None, 1) dtype=float32 (created by layer 'dense_input')>"
            ]
          },
          "execution_count": 27,
          "metadata": {},
          "output_type": "execute_result"
        }
      ],
      "source": [
        "model.get_layer(\"dense\").input"
      ]
    },
    {
      "cell_type": "code",
      "execution_count": null,
      "id": "b4ea1e4c",
      "metadata": {
        "id": "b4ea1e4c",
        "outputId": "cf8011d7-24f5-4837-ad28-1b1f833c8413"
      },
      "outputs": [
        {
          "data": {
            "text/plain": [
              "<KerasTensor: shape=(None, 1) dtype=float32 (created by layer 'dense')>"
            ]
          },
          "execution_count": 28,
          "metadata": {},
          "output_type": "execute_result"
        }
      ],
      "source": [
        "model.get_layer(\"dense\").output"
      ]
    },
    {
      "cell_type": "code",
      "execution_count": null,
      "id": "d869d63c",
      "metadata": {
        "id": "d869d63c"
      },
      "outputs": [],
      "source": [
        "model.compile( loss=\"mean_squared_error\",   optimizer=\"Adam\")"
      ]
    },
    {
      "cell_type": "code",
      "execution_count": null,
      "id": "e17a15e9",
      "metadata": {
        "id": "e17a15e9",
        "outputId": "0bac0cc9-415a-4f93-8d8d-52f8d600cc56"
      },
      "outputs": [
        {
          "data": {
            "text/plain": [
              "[array([[0.]], dtype=float32), array([0.], dtype=float32)]"
            ]
          },
          "execution_count": 20,
          "metadata": {},
          "output_type": "execute_result"
        }
      ],
      "source": [
        "# trained the model\n",
        "\n",
        "model.get_weights()"
      ]
    },
    {
      "cell_type": "code",
      "execution_count": null,
      "id": "0773e815",
      "metadata": {
        "id": "0773e815",
        "outputId": "0eb53fb6-06ba-4d38-b237-a6f3fd7b64cf"
      },
      "outputs": [
        {
          "name": "stdout",
          "output_type": "stream",
          "text": [
            "313/313 [==============================] - 1s 2ms/step - loss: 23874.0195\n"
          ]
        },
        {
          "data": {
            "text/plain": [
              "<keras.callbacks.History at 0x138b001f910>"
            ]
          },
          "execution_count": 21,
          "metadata": {},
          "output_type": "execute_result"
        }
      ],
      "source": [
        "model.fit(X, y)"
      ]
    },
    {
      "cell_type": "code",
      "execution_count": null,
      "id": "415a89f6",
      "metadata": {
        "id": "415a89f6",
        "outputId": "1916c74c-49c9-451f-ad35-36a93d2d8779"
      },
      "outputs": [
        {
          "data": {
            "text/plain": [
              "[array([[0.30378324]], dtype=float32), array([0.30381057], dtype=float32)]"
            ]
          },
          "execution_count": 22,
          "metadata": {},
          "output_type": "execute_result"
        }
      ],
      "source": [
        "model.get_weights()"
      ]
    },
    {
      "cell_type": "code",
      "execution_count": null,
      "id": "8379ecf2",
      "metadata": {
        "id": "8379ecf2",
        "outputId": "2cf31615-bc60-4ad4-9e26-ebc577e85415"
      },
      "outputs": [
        {
          "data": {
            "text/plain": [
              "array([[30.682135]], dtype=float32)"
            ]
          },
          "execution_count": 23,
          "metadata": {},
          "output_type": "execute_result"
        }
      ],
      "source": [
        "model.predict([100])"
      ]
    },
    {
      "cell_type": "code",
      "execution_count": null,
      "id": "4e516c8c",
      "metadata": {
        "id": "4e516c8c"
      },
      "outputs": [],
      "source": [
        "model.save(\"myfirst_keras.h5\")"
      ]
    },
    {
      "cell_type": "code",
      "execution_count": null,
      "id": "78546170",
      "metadata": {
        "id": "78546170"
      },
      "outputs": [],
      "source": [
        ""
      ]
    }
  ],
  "metadata": {
    "kernelspec": {
      "display_name": "Python 3",
      "language": "python",
      "name": "python3"
    },
    "language_info": {
      "codemirror_mode": {
        "name": "ipython",
        "version": 3
      },
      "file_extension": ".py",
      "mimetype": "text/x-python",
      "name": "python",
      "nbconvert_exporter": "python",
      "pygments_lexer": "ipython3",
      "version": "3.8.8"
    },
    "colab": {
      "name": "Single Neurons NN weight and height.ipynb",
      "provenance": [],
      "include_colab_link": true
    }
  },
  "nbformat": 4,
  "nbformat_minor": 5
}